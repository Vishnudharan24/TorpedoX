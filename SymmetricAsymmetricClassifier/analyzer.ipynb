{
 "cells": [
  {
   "cell_type": "code",
   "execution_count": 1,
   "metadata": {},
   "outputs": [],
   "source": [
    "import pandas as pd"
   ]
  },
  {
   "cell_type": "code",
   "execution_count": 2,
   "metadata": {},
   "outputs": [],
   "source": [
    "df = pd.read_csv('analysis_results.csv')"
   ]
  },
  {
   "cell_type": "code",
   "execution_count": 6,
   "metadata": {},
   "outputs": [
    {
     "data": {
      "text/plain": [
       "approximate_entropy_p_value                        float64\n",
       "approximate_entropy_result                            bool\n",
       "approximate_entropy_ape                            float64\n",
       "approximate_entropy_xObs                           float64\n",
       "approximate_entropy_vobs_01                         object\n",
       "                                                    ...   \n",
       "spectral_test_blocks_unified_kurtosis              float64\n",
       "spectral_test_blocks_unified_mode_p_value          float64\n",
       "spectral_test_blocks_unified_overall_result           bool\n",
       "spectral_test_blocks_unified_num_blocks_passing      int64\n",
       "label                                               object\n",
       "Length: 156, dtype: object"
      ]
     },
     "execution_count": 6,
     "metadata": {},
     "output_type": "execute_result"
    }
   ],
   "source": [
    "df['label'].unique()\n",
    "df.dtypes"
   ]
  },
  {
   "cell_type": "code",
   "execution_count": null,
   "metadata": {},
   "outputs": [],
   "source": []
  }
 ],
 "metadata": {
  "kernelspec": {
   "display_name": "Python 3",
   "language": "python",
   "name": "python3"
  },
  "language_info": {
   "codemirror_mode": {
    "name": "ipython",
    "version": 3
   },
   "file_extension": ".py",
   "mimetype": "text/x-python",
   "name": "python",
   "nbconvert_exporter": "python",
   "pygments_lexer": "ipython3",
   "version": "3.12.6"
  }
 },
 "nbformat": 4,
 "nbformat_minor": 2
}
